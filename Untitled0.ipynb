{
 "metadata": {
  "name": "",
  "signature": "sha256:29502867b015f1fbd8b2e45479f63a7816d0555d57ee9d43fd1e1b351b5ab10d"
 },
 "nbformat": 3,
 "nbformat_minor": 0,
 "worksheets": [
  {
   "cells": [
    {
     "cell_type": "code",
     "collapsed": false,
     "input": [
      "import numpy as np\n",
      "import time as t\n",
      "x = np.random.randn(10e6 ).astype(np.float32)\n",
      "start = t.time( )\n",
      "valid = np.logical_and( -1 < x , x < +1)\n",
      "print 'CPU: Found %d values in %f secs' % (np.sum( valid ) , t.time()-start )"
     ],
     "language": "python",
     "metadata": {},
     "outputs": [
      {
       "output_type": "stream",
       "stream": "stdout",
       "text": [
        "CPU: Found 6824528 values in 0.025343 secs\n"
       ]
      }
     ],
     "prompt_number": 23
    },
    {
     "cell_type": "code",
     "collapsed": false,
     "input": [
      "import numpy as np\n",
      "import pycuda.autoinit\n",
      "from pycuda.compiler import SourceModule\n",
      "import pycuda.driver as drv\n",
      "import pycuda.gpuarray as gpuarray\n",
      "kernel = SourceModule( \"\"\"__global__ void twice ( float *x){const unsigned int i = threadIdx.x + threadIdx.y*blockDim.x;x[ i ] = 2*x[ i ] ;}\"\"\")\n",
      "twice = kernel.get_function('twice')\n",
      "x = np.random.randn (16 ).astype(np.float32 )\n",
      "x_gpu = gpuarray.to_gpu(x )\n",
      "twice (x_gpu , block=(4, 4 , 1) , grid =(1 ,1))\n",
      "print x , np.sum(x )\n",
      "print x_gpu.get( ) , np.float32 ( gpuarray.sum(x_gpu ).get( ) )"
     ],
     "language": "python",
     "metadata": {},
     "outputs": [
      {
       "output_type": "stream",
       "stream": "stdout",
       "text": [
        "[-0.49821654 -1.54042578  0.67522389 -0.09040375  0.58284378  0.14402844\n",
        " -1.33279812  0.2944732  -0.72938979 -0.94212675 -1.23395526 -2.50974059\n",
        " -1.13910711 -0.91503042  0.12829344  0.06934386] -9.03699\n",
        "[-0.99643308 -3.08085155  1.35044777 -0.1808075   1.16568756  0.28805688\n",
        " -2.66559625  0.5889464  -1.45877957 -1.8842535  -2.46791053 -5.01948118\n",
        " -2.27821422 -1.83006084  0.25658688  0.13868771] -18.074\n"
       ]
      }
     ],
     "prompt_number": 28
    }
   ],
   "metadata": {}
  }
 ]
}