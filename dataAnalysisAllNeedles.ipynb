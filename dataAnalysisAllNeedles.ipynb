{
 "metadata": {
  "name": "",
  "signature": "sha256:239d9e89be8a6226313b2d4410af7e26ad29b983042d931a991d506816476d4c"
 },
 "nbformat": 3,
 "nbformat_minor": 0,
 "worksheets": [
  {
   "cells": [
    {
     "cell_type": "heading",
     "level": 3,
     "metadata": {},
     "source": [
      "The goal is to find the best parameters that minimize the metric over the training set:\n",
      "- it has to be robust over all the training set but we want to avoid overfitting\n",
      "- the metric is the percentage of needle with HD > 2mm ie 0% represents a case where all needles have an HD < 2mm"
     ]
    },
    {
     "cell_type": "code",
     "collapsed": false,
     "input": [
      "%matplotlib inline\n",
      "%pylab inline\n",
      "%load_ext cythonmagic\n",
      "\n",
      "import pandas as pd\n",
      "import matplotlib.pyplot as plt\n",
      "import numpy as np\n",
      "from scipy import stats\n",
      "import re\n",
      "from __future__ import division\n",
      "\n",
      "# Make the graphs a bit prettier, and bigger\n",
      "pd.set_option('display.mpl_style', 'default') \n",
      "pd.set_option('display.width', 15000) \n",
      "pd.set_option('display.max_columns', 60) \n",
      "# figsize(15, 5)\n",
      "\n",
      "# set some print options\n",
      "np.set_printoptions(precision=4)\n",
      "np.set_printoptions(threshold=5)\n",
      "np.set_printoptions(suppress=True)\n",
      "\n",
      "# init random gen\n",
      "np.random.seed(2)"
     ],
     "language": "python",
     "metadata": {},
     "outputs": [
      {
       "output_type": "stream",
       "stream": "stdout",
       "text": [
        "Populating the interactive namespace from numpy and matplotlib\n",
        "The cythonmagic extension is already loaded. To reload it, use:\n",
        "  %reload_ext cythonmagic\n"
       ]
      }
     ],
     "prompt_number": 46
    },
    {
     "cell_type": "code",
     "collapsed": false,
     "input": [
      "ids = [24]\n",
      "column_names =['HD','manNeedleID','autoNeedleID','radius','length','distMax','ctrlPt','rot','step','gradient','center','gauss','sigma','id']\n",
      "# column_names =['HD','manNeedleID','autoNeedleID','radius','length','distMax','ctrlPt','rot','step','gradient','gauss','sigma','id']"
     ],
     "language": "python",
     "metadata": {},
     "outputs": [],
     "prompt_number": 93
    },
    {
     "cell_type": "code",
     "collapsed": false,
     "input": [
      "def loadFiles(ids):\n",
      "    files = []\n",
      "    for ID in ids:\n",
      "        print ID\n",
      "#         doc = pd.read_csv('./<built-in function id>.csv', names= column_names ,  dtype = 'float32') \n",
      "        doc = pd.read_csv('./24.csv', names= column_names ,  dtype = 'float32') \n",
      "\n",
      "#         doc = doc.select(lambda x: not re.search('Unnamed*', x), axis=1)\n",
      "        doc.dropna(how='all')\n",
      "        doc['id']=ID\n",
      "        files.append(doc)\n",
      "#         doc = pd.read_csv('/Users/guillaume/Dropbox/'+str(ID)+'.csv', names = column_names, dtype = 'float32')\n",
      "# #         doc = doc.select(lambda x: not re.search('Unnamed*', x), axis=1)\n",
      "#         doc.dropna(how='all')\n",
      "#         doc['id']=ID\n",
      "#         files.append(doc)\n",
      "    return files"
     ],
     "language": "python",
     "metadata": {},
     "outputs": [],
     "prompt_number": 94
    },
    {
     "cell_type": "code",
     "collapsed": false,
     "input": [
      "files  = loadFiles(ids)\n",
      "# f34 = loadFiles(['34'])\n",
      "# f34[0].sort('radius', ascending = False)"
     ],
     "language": "python",
     "metadata": {},
     "outputs": [
      {
       "output_type": "stream",
       "stream": "stdout",
       "text": [
        "24\n"
       ]
      }
     ],
     "prompt_number": 95
    },
    {
     "cell_type": "code",
     "collapsed": false,
     "input": [
      "# grouped = files[3].groupby(['id', 'radius','ctrlPt', 'rot', 'step', 'gradient','center','gauss','sigma'])"
     ],
     "language": "python",
     "metadata": {},
     "outputs": [],
     "prompt_number": 96
    },
    {
     "cell_type": "code",
     "collapsed": false,
     "input": [
      "\n",
      "# len(grouped.groups)"
     ],
     "language": "python",
     "metadata": {},
     "outputs": [],
     "prompt_number": 97
    },
    {
     "cell_type": "code",
     "collapsed": false,
     "input": [
      "# files[0].sort_index(by='HD')"
     ],
     "language": "python",
     "metadata": {},
     "outputs": [],
     "prompt_number": 98
    },
    {
     "cell_type": "code",
     "collapsed": false,
     "input": [
      "# metric = lambda x: np.sum((x>2)*1)/len(x)"
     ],
     "language": "python",
     "metadata": {},
     "outputs": [],
     "prompt_number": 99
    },
    {
     "cell_type": "code",
     "collapsed": false,
     "input": [
      "# computed = grouped.agg({ 'HD' : metric})"
     ],
     "language": "python",
     "metadata": {},
     "outputs": [],
     "prompt_number": 100
    },
    {
     "cell_type": "code",
     "collapsed": false,
     "input": [
      "# computed.sort('HD')"
     ],
     "language": "python",
     "metadata": {},
     "outputs": [],
     "prompt_number": 101
    },
    {
     "cell_type": "code",
     "collapsed": false,
     "input": [
      "all_files = pd.concat(files)\n",
      "# all_files.sort('radius', ascending = False)\n",
      "all_files.drop_duplicates().tail()"
     ],
     "language": "python",
     "metadata": {},
     "outputs": [
      {
       "html": [
        "<div style=\"max-height:1000px;max-width:1500px;overflow:auto;\">\n",
        "<table border=\"1\" class=\"dataframe\">\n",
        "  <thead>\n",
        "    <tr style=\"text-align: right;\">\n",
        "      <th></th>\n",
        "      <th>HD</th>\n",
        "      <th>manNeedleID</th>\n",
        "      <th>autoNeedleID</th>\n",
        "      <th>radius</th>\n",
        "      <th>length</th>\n",
        "      <th>distMax</th>\n",
        "      <th>ctrlPt</th>\n",
        "      <th>rot</th>\n",
        "      <th>step</th>\n",
        "      <th>gradient</th>\n",
        "      <th>center</th>\n",
        "      <th>gauss</th>\n",
        "      <th>sigma</th>\n",
        "      <th>id</th>\n",
        "    </tr>\n",
        "  </thead>\n",
        "  <tbody>\n",
        "    <tr>\n",
        "      <th>1633</th>\n",
        "      <td> 5.067448</td>\n",
        "      <td> 95</td>\n",
        "      <td> 3926</td>\n",
        "      <td> 4</td>\n",
        "      <td> 100</td>\n",
        "      <td> 5</td>\n",
        "      <td> 10</td>\n",
        "      <td> 35</td>\n",
        "      <td> 5</td>\n",
        "      <td> 13</td>\n",
        "      <td> 1</td>\n",
        "      <td> 1</td>\n",
        "      <td> 20</td>\n",
        "      <td> 24</td>\n",
        "    </tr>\n",
        "    <tr>\n",
        "      <th>1634</th>\n",
        "      <td> 1.626606</td>\n",
        "      <td> 96</td>\n",
        "      <td> 3927</td>\n",
        "      <td> 4</td>\n",
        "      <td> 100</td>\n",
        "      <td> 5</td>\n",
        "      <td> 10</td>\n",
        "      <td> 35</td>\n",
        "      <td> 5</td>\n",
        "      <td> 13</td>\n",
        "      <td> 1</td>\n",
        "      <td> 1</td>\n",
        "      <td> 20</td>\n",
        "      <td> 24</td>\n",
        "    </tr>\n",
        "    <tr>\n",
        "      <th>1635</th>\n",
        "      <td> 1.702738</td>\n",
        "      <td> 97</td>\n",
        "      <td> 3928</td>\n",
        "      <td> 4</td>\n",
        "      <td> 100</td>\n",
        "      <td> 5</td>\n",
        "      <td> 10</td>\n",
        "      <td> 35</td>\n",
        "      <td> 5</td>\n",
        "      <td> 13</td>\n",
        "      <td> 1</td>\n",
        "      <td> 1</td>\n",
        "      <td> 20</td>\n",
        "      <td> 24</td>\n",
        "    </tr>\n",
        "    <tr>\n",
        "      <th>1636</th>\n",
        "      <td> 1.534888</td>\n",
        "      <td> 98</td>\n",
        "      <td> 3929</td>\n",
        "      <td> 4</td>\n",
        "      <td> 100</td>\n",
        "      <td> 5</td>\n",
        "      <td> 10</td>\n",
        "      <td> 35</td>\n",
        "      <td> 5</td>\n",
        "      <td> 13</td>\n",
        "      <td> 1</td>\n",
        "      <td> 1</td>\n",
        "      <td> 20</td>\n",
        "      <td> 24</td>\n",
        "    </tr>\n",
        "    <tr>\n",
        "      <th>1637</th>\n",
        "      <td> 1.068456</td>\n",
        "      <td> 99</td>\n",
        "      <td> 3930</td>\n",
        "      <td> 4</td>\n",
        "      <td> 100</td>\n",
        "      <td> 5</td>\n",
        "      <td> 10</td>\n",
        "      <td> 35</td>\n",
        "      <td> 5</td>\n",
        "      <td> 13</td>\n",
        "      <td> 1</td>\n",
        "      <td> 1</td>\n",
        "      <td> 20</td>\n",
        "      <td> 24</td>\n",
        "    </tr>\n",
        "  </tbody>\n",
        "</table>\n",
        "</div>"
       ],
       "metadata": {},
       "output_type": "pyout",
       "prompt_number": 102,
       "text": [
        "            HD  manNeedleID  autoNeedleID  radius  length  distMax  ctrlPt  rot  step  gradient  center  gauss  sigma  id\n",
        "1633  5.067448           95          3926       4     100        5      10   35     5        13       1      1     20  24\n",
        "1634  1.626606           96          3927       4     100        5      10   35     5        13       1      1     20  24\n",
        "1635  1.702738           97          3928       4     100        5      10   35     5        13       1      1     20  24\n",
        "1636  1.534888           98          3929       4     100        5      10   35     5        13       1      1     20  24\n",
        "1637  1.068456           99          3930       4     100        5      10   35     5        13       1      1     20  24"
       ]
      }
     ],
     "prompt_number": 102
    },
    {
     "cell_type": "code",
     "collapsed": false,
     "input": [
      "def tableMean(table,period):\n",
      "    computedTable =[]\n",
      "    for i in range(len(table)):\n",
      "        computedTable.append(table[i:i+period].mean())\n",
      "    return computedTable"
     ],
     "language": "python",
     "metadata": {},
     "outputs": [],
     "prompt_number": 103
    },
    {
     "cell_type": "code",
     "collapsed": false,
     "input": [
      "meanTable = tableMean(all_files,13)\n",
      "# meanTable\n",
      "# all_files[0:13].mean()"
     ],
     "language": "python",
     "metadata": {},
     "outputs": [],
     "prompt_number": 104
    },
    {
     "cell_type": "code",
     "collapsed": false,
     "input": [
      "meanTable = np.array(meanTable)\n",
      "meanTable[-20:,0]"
     ],
     "language": "python",
     "metadata": {},
     "outputs": [
      {
       "metadata": {},
       "output_type": "pyout",
       "prompt_number": 105,
       "text": [
        "array([ 15.7981,  15.7747,  16.1505, ...,   1.4354,   1.3017,   1.0685])"
       ]
      }
     ],
     "prompt_number": 105
    },
    {
     "cell_type": "code",
     "collapsed": false,
     "input": [
      "plt.plot(meanTable[-1000:,0])"
     ],
     "language": "python",
     "metadata": {},
     "outputs": [
      {
       "metadata": {},
       "output_type": "pyout",
       "prompt_number": 106,
       "text": [
        "[<matplotlib.lines.Line2D at 0x11f847ad0>]"
       ]
      },
      {
       "metadata": {},
       "output_type": "display_data",
       "png": "[encoded data removed]",
       "text": [
        "<matplotlib.figure.Figure at 0x11bc51d90>"
       ]
      }
     ],
     "prompt_number": 106
    },
    {
     "cell_type": "code",
     "collapsed": false,
     "input": [
      "grouped = all_files.groupby(['id','radius','ctrlPt', 'center', 'gradient','sigma'])"
     ],
     "language": "python",
     "metadata": {},
     "outputs": [],
     "prompt_number": 112
    },
    {
     "cell_type": "code",
     "collapsed": false,
     "input": [
      "len(grouped.groups)"
     ],
     "language": "python",
     "metadata": {},
     "outputs": [
      {
       "metadata": {},
       "output_type": "pyout",
       "prompt_number": 113,
       "text": [
        "123"
       ]
      }
     ],
     "prompt_number": 113
    },
    {
     "cell_type": "code",
     "collapsed": false,
     "input": [
      "metric_rel = lambda x: np.sum((x>2)*1)/len(x)\n",
      "metric_abs = lambda x: np.sum((x>2)*1)"
     ],
     "language": "python",
     "metadata": {},
     "outputs": [],
     "prompt_number": 114
    },
    {
     "cell_type": "code",
     "collapsed": false,
     "input": [
      "computed = grouped.agg({'HD' : metric_abs})"
     ],
     "language": "python",
     "metadata": {},
     "outputs": [],
     "prompt_number": 115
    },
    {
     "cell_type": "code",
     "collapsed": false,
     "input": [
      "minHD = computed.idxmin()\n",
      "minHD"
     ],
     "language": "python",
     "metadata": {},
     "outputs": [
      {
       "metadata": {},
       "output_type": "pyout",
       "prompt_number": 149,
       "text": [
        "HD    (24, 1.0, 8.0, 0.0, 8.0, 21.0)\n",
        "dtype: object"
       ]
      }
     ],
     "prompt_number": 149
    },
    {
     "cell_type": "code",
     "collapsed": false,
     "input": [],
     "language": "python",
     "metadata": {},
     "outputs": [
      {
       "metadata": {},
       "output_type": "pyout",
       "prompt_number": 147,
       "text": [
        "<pandas.core.indexing._iAtIndexer at 0x11f60cc50>"
       ]
      }
     ],
     "prompt_number": 147
    },
    {
     "cell_type": "code",
     "collapsed": false,
     "input": [
      "def find_best_param(files, metric):\n",
      "    minHDs = []\n",
      "    for file_i in files:\n",
      "        grouped = file_i.groupby(['id','radius','ctrlPt', 'step', 'gradient','sigma'])\n",
      "        computed = grouped.agg({ 'HD' : metric})\n",
      "        minHDs.append(computed.idxmin())\n",
      "        \n",
      "    return minHDs\n",
      "\n",
      "def compute_bary(minHDs):\n",
      "    bary= [ [ [] for i in range(len(files))] for k in range(6)]\n",
      "    bary2 = [ [] for i in range(6)]\n",
      "    for i in range(6):\n",
      "        k = 0\n",
      "        for file_i in files:\n",
      "#             print k,i\n",
      "            bary[i][k] = minHDs[k].iget_value(0)[i+1]\n",
      "            k+= 1\n",
      "    for i in range(len(bary)):\n",
      "        b = np.array(bary[i])\n",
      "        bary2[i] = b.mean()\n",
      "    return bary2\n",
      "\n"
     ],
     "language": "python",
     "metadata": {},
     "outputs": [],
     "prompt_number": 117
    },
    {
     "cell_type": "code",
     "collapsed": false,
     "input": [
      "minHDs_abs = find_best_param(files, metric_abs)\n",
      "minHDs_rel = find_best_param(files, metric_rel)"
     ],
     "language": "python",
     "metadata": {},
     "outputs": [],
     "prompt_number": 118
    },
    {
     "cell_type": "code",
     "collapsed": false,
     "input": [
      "minHDs_abs\n",
      "# minHDs_abs in all_files"
     ],
     "language": "python",
     "metadata": {},
     "outputs": [
      {
       "ename": "TypeError",
       "evalue": "unhashable type: 'list'",
       "output_type": "pyerr",
       "traceback": [
        "\u001b[0;31m---------------------------------------------------------------------------\u001b[0m\n\u001b[0;31mTypeError\u001b[0m                                 Traceback (most recent call last)",
        "\u001b[0;32m<ipython-input-133-fdbbe649772e>\u001b[0m in \u001b[0;36m<module>\u001b[0;34m()\u001b[0m\n\u001b[1;32m      1\u001b[0m \u001b[0mminHDs_abs\u001b[0m\u001b[0;34m\u001b[0m\u001b[0m\n\u001b[0;32m----> 2\u001b[0;31m \u001b[0mminHDs_abs\u001b[0m \u001b[0;32min\u001b[0m \u001b[0mall_files\u001b[0m\u001b[0;34m\u001b[0m\u001b[0m\n\u001b[0m",
        "\u001b[0;32m/Users/guillaume/.pyenv/versions/2.7.8/lib/python2.7/site-packages/pandas/core/generic.pyc\u001b[0m in \u001b[0;36m__contains__\u001b[0;34m(self, key)\u001b[0m\n\u001b[1;32m    686\u001b[0m     \u001b[0;32mdef\u001b[0m \u001b[0m__contains__\u001b[0m\u001b[0;34m(\u001b[0m\u001b[0mself\u001b[0m\u001b[0;34m,\u001b[0m \u001b[0mkey\u001b[0m\u001b[0;34m)\u001b[0m\u001b[0;34m:\u001b[0m\u001b[0;34m\u001b[0m\u001b[0m\n\u001b[1;32m    687\u001b[0m         \u001b[0;34m\"\"\"True if the key is in the info axis \"\"\"\u001b[0m\u001b[0;34m\u001b[0m\u001b[0m\n\u001b[0;32m--> 688\u001b[0;31m         \u001b[0;32mreturn\u001b[0m \u001b[0mkey\u001b[0m \u001b[0;32min\u001b[0m \u001b[0mself\u001b[0m\u001b[0;34m.\u001b[0m\u001b[0m_info_axis\u001b[0m\u001b[0;34m\u001b[0m\u001b[0m\n\u001b[0m\u001b[1;32m    689\u001b[0m \u001b[0;34m\u001b[0m\u001b[0m\n\u001b[1;32m    690\u001b[0m     \u001b[0;34m@\u001b[0m\u001b[0mproperty\u001b[0m\u001b[0;34m\u001b[0m\u001b[0m\n",
        "\u001b[0;32m/Users/guillaume/.pyenv/versions/2.7.8/lib/python2.7/site-packages/pandas/core/index.pyc\u001b[0m in \u001b[0;36m__contains__\u001b[0;34m(self, key)\u001b[0m\n\u001b[1;32m    883\u001b[0m \u001b[0;34m\u001b[0m\u001b[0m\n\u001b[1;32m    884\u001b[0m     \u001b[0;32mdef\u001b[0m \u001b[0m__contains__\u001b[0m\u001b[0;34m(\u001b[0m\u001b[0mself\u001b[0m\u001b[0;34m,\u001b[0m \u001b[0mkey\u001b[0m\u001b[0;34m)\u001b[0m\u001b[0;34m:\u001b[0m\u001b[0;34m\u001b[0m\u001b[0m\n\u001b[0;32m--> 885\u001b[0;31m         \u001b[0mhash\u001b[0m\u001b[0;34m(\u001b[0m\u001b[0mkey\u001b[0m\u001b[0;34m)\u001b[0m\u001b[0;34m\u001b[0m\u001b[0m\n\u001b[0m\u001b[1;32m    886\u001b[0m         \u001b[0;31m# work around some kind of odd cython bug\u001b[0m\u001b[0;34m\u001b[0m\u001b[0;34m\u001b[0m\u001b[0m\n\u001b[1;32m    887\u001b[0m         \u001b[0;32mtry\u001b[0m\u001b[0;34m:\u001b[0m\u001b[0;34m\u001b[0m\u001b[0m\n",
        "\u001b[0;31mTypeError\u001b[0m: unhashable type: 'list'"
       ]
      }
     ],
     "prompt_number": 133
    },
    {
     "cell_type": "code",
     "collapsed": false,
     "input": [
      "# test = files[4].groupby(['id','radius','ctrlPt', 'step', 'gradient','center','sigma'])\n",
      "# test2= test.agg({ 'HD' : metric})\n",
      "# test3\n",
      "# minHDs\n",
      "bary_abs = compute_bary(minHDs_abs)\n",
      "bary_rel = compute_bary(minHDs_rel)\n",
      "print bary_abs\n",
      "print bary_rel"
     ],
     "language": "python",
     "metadata": {},
     "outputs": [
      {
       "ename": "IndexError",
       "evalue": "tuple index out of range",
       "output_type": "pyerr",
       "traceback": [
        "\u001b[0;31m---------------------------------------------------------------------------\u001b[0m\n\u001b[0;31mIndexError\u001b[0m                                Traceback (most recent call last)",
        "\u001b[0;32m<ipython-input-120-1b369621ad45>\u001b[0m in \u001b[0;36m<module>\u001b[0;34m()\u001b[0m\n\u001b[1;32m      3\u001b[0m \u001b[0;31m# test3\u001b[0m\u001b[0;34m\u001b[0m\u001b[0;34m\u001b[0m\u001b[0m\n\u001b[1;32m      4\u001b[0m \u001b[0;31m# minHDs\u001b[0m\u001b[0;34m\u001b[0m\u001b[0;34m\u001b[0m\u001b[0m\n\u001b[0;32m----> 5\u001b[0;31m \u001b[0mbary_abs\u001b[0m \u001b[0;34m=\u001b[0m \u001b[0mcompute_bary\u001b[0m\u001b[0;34m(\u001b[0m\u001b[0mminHDs_abs\u001b[0m\u001b[0;34m)\u001b[0m\u001b[0;34m\u001b[0m\u001b[0m\n\u001b[0m\u001b[1;32m      6\u001b[0m \u001b[0mbary_rel\u001b[0m \u001b[0;34m=\u001b[0m \u001b[0mcompute_bary\u001b[0m\u001b[0;34m(\u001b[0m\u001b[0mminHDs_rel\u001b[0m\u001b[0;34m)\u001b[0m\u001b[0;34m\u001b[0m\u001b[0m\n\u001b[1;32m      7\u001b[0m \u001b[0;32mprint\u001b[0m \u001b[0mbary_abs\u001b[0m\u001b[0;34m\u001b[0m\u001b[0m\n",
        "\u001b[0;32m<ipython-input-117-d7079eb9a7ca>\u001b[0m in \u001b[0;36mcompute_bary\u001b[0;34m(minHDs)\u001b[0m\n\u001b[1;32m     15\u001b[0m         \u001b[0;32mfor\u001b[0m \u001b[0mfile_i\u001b[0m \u001b[0;32min\u001b[0m \u001b[0mfiles\u001b[0m\u001b[0;34m:\u001b[0m\u001b[0;34m\u001b[0m\u001b[0m\n\u001b[1;32m     16\u001b[0m \u001b[0;31m#             print k,i\u001b[0m\u001b[0;34m\u001b[0m\u001b[0;34m\u001b[0m\u001b[0m\n\u001b[0;32m---> 17\u001b[0;31m             \u001b[0mbary\u001b[0m\u001b[0;34m[\u001b[0m\u001b[0mi\u001b[0m\u001b[0;34m]\u001b[0m\u001b[0;34m[\u001b[0m\u001b[0mk\u001b[0m\u001b[0;34m]\u001b[0m \u001b[0;34m=\u001b[0m \u001b[0mminHDs\u001b[0m\u001b[0;34m[\u001b[0m\u001b[0mk\u001b[0m\u001b[0;34m]\u001b[0m\u001b[0;34m.\u001b[0m\u001b[0miget_value\u001b[0m\u001b[0;34m(\u001b[0m\u001b[0;36m0\u001b[0m\u001b[0;34m)\u001b[0m\u001b[0;34m[\u001b[0m\u001b[0mi\u001b[0m\u001b[0;34m+\u001b[0m\u001b[0;36m1\u001b[0m\u001b[0;34m]\u001b[0m\u001b[0;34m\u001b[0m\u001b[0m\n\u001b[0m\u001b[1;32m     18\u001b[0m             \u001b[0mk\u001b[0m\u001b[0;34m+=\u001b[0m \u001b[0;36m1\u001b[0m\u001b[0;34m\u001b[0m\u001b[0m\n\u001b[1;32m     19\u001b[0m     \u001b[0;32mfor\u001b[0m \u001b[0mi\u001b[0m \u001b[0;32min\u001b[0m \u001b[0mrange\u001b[0m\u001b[0;34m(\u001b[0m\u001b[0mlen\u001b[0m\u001b[0;34m(\u001b[0m\u001b[0mbary\u001b[0m\u001b[0;34m)\u001b[0m\u001b[0;34m)\u001b[0m\u001b[0;34m:\u001b[0m\u001b[0;34m\u001b[0m\u001b[0m\n",
        "\u001b[0;31mIndexError\u001b[0m: tuple index out of range"
       ]
      }
     ],
     "prompt_number": 120
    },
    {
     "cell_type": "code",
     "collapsed": false,
     "input": [],
     "language": "python",
     "metadata": {},
     "outputs": []
    },
    {
     "cell_type": "code",
     "collapsed": false,
     "input": [
      "bary= [[ [] for i in range(6)] for j in range(7)]\n"
     ],
     "language": "python",
     "metadata": {},
     "outputs": [
      {
       "metadata": {},
       "output_type": "pyout",
       "prompt_number": 322,
       "text": [
        "[[], [], [], [], [], []]"
       ]
      }
     ],
     "prompt_number": 322
    },
    {
     "cell_type": "code",
     "collapsed": false,
     "input": [
      "val = computed\n",
      "# v = val.unstack(['id'])\n",
      "# val\n",
      "v = val.idxmin()\n",
      "v"
     ],
     "language": "python",
     "metadata": {},
     "outputs": [
      {
       "metadata": {},
       "output_type": "pyout",
       "prompt_number": 300,
       "text": [
        "HD    (24, 2.0, 7.0, 39.0, 5.0, 5.0, 17.0)\n",
        "dtype: object"
       ]
      }
     ],
     "prompt_number": 300
    },
    {
     "cell_type": "code",
     "collapsed": false,
     "input": [
      "\n",
      "v.iget_value(0)[1]"
     ],
     "language": "python",
     "metadata": {},
     "outputs": [
      {
       "metadata": {},
       "output_type": "pyout",
       "prompt_number": 298,
       "text": [
        "2.0"
       ]
      }
     ],
     "prompt_number": 298
    },
    {
     "cell_type": "code",
     "collapsed": false,
     "input": [
      "vv = v.groupby('iewfwd')\n",
      "vv.max()"
     ],
     "language": "python",
     "metadata": {},
     "outputs": [
      {
       "metadata": {},
       "output_type": "pyout",
       "prompt_number": 235,
       "text": [
        "iewfwd    0.153846\n",
        "Name: HD, dtype: float32"
       ]
      }
     ],
     "prompt_number": 235
    },
    {
     "cell_type": "code",
     "collapsed": false,
     "input": [
      "df = pd.DataFrame(computed)\n",
      "df.groupby(level=0).mean()"
     ],
     "language": "python",
     "metadata": {},
     "outputs": [
      {
       "html": [
        "<div style=\"max-height:1000px;max-width:1500px;overflow:auto;\">\n",
        "<table border=\"1\" class=\"dataframe\">\n",
        "  <thead>\n",
        "    <tr style=\"text-align: right;\">\n",
        "      <th></th>\n",
        "      <th>HD</th>\n",
        "    </tr>\n",
        "    <tr>\n",
        "      <th>id</th>\n",
        "      <th></th>\n",
        "    </tr>\n",
        "  </thead>\n",
        "  <tbody>\n",
        "    <tr>\n",
        "      <th>24</th>\n",
        "      <td> 289.325012</td>\n",
        "    </tr>\n",
        "  </tbody>\n",
        "</table>\n",
        "</div>"
       ],
       "metadata": {},
       "output_type": "pyout",
       "prompt_number": 51,
       "text": [
        "            HD\n",
        "id            \n",
        "24  289.325012"
       ]
      }
     ],
     "prompt_number": 51
    },
    {
     "cell_type": "code",
     "collapsed": false,
     "input": [
      "df.groupby(level='sigma').mean().plot(); df.groupby(level='sigma').std().plot();\n",
      "df.groupby(level='radius').mean().plot(); df.groupby(level='radius').std().plot();\n",
      "df.groupby(level='ctrlPt').mean().plot(); df.groupby(level='ctrlPt').std().plot();\n",
      "\n"
     ],
     "language": "python",
     "metadata": {},
     "outputs": [
      {
       "metadata": {},
       "output_type": "display_data",
       "png": "[encoded data removed]",
       "text": [
        "<matplotlib.figure.Figure at 0x118a1c410>"
       ]
      },
      {
       "metadata": {},
       "output_type": "display_data",
       "png": "[encoded data removed]",
       "text": [
        "<matplotlib.figure.Figure at 0x118a1c350>"
       ]
      },
      {
       "metadata": {},
       "output_type": "display_data",
       "png": "[encoded data removed]",
       "text": [
        "<matplotlib.figure.Figure at 0x118a1c5d0>"
       ]
      },
      {
       "metadata": {},
       "output_type": "display_data",
       "png": "[encoded data removed]",
       "text": [
        "<matplotlib.figure.Figure at 0x117ec9350>"
       ]
      },
      {
       "metadata": {},
       "output_type": "display_data",
       "png": "[encoded data removed]",
       "text": [
        "<matplotlib.figure.Figure at 0x118a1c390>"
       ]
      },
      {
       "metadata": {},
       "output_type": "display_data",
       "png": "[encoded data removed]",
       "text": [
        "<matplotlib.figure.Figure at 0x118a1c490>"
       ]
      }
     ],
     "prompt_number": 45
    },
    {
     "cell_type": "code",
     "collapsed": false,
     "input": [
      "df.groupby(level='gradient').mean().plot(); df.groupby(level='gradient').std().plot();\n",
      "df.groupby(level='step').mean().plot(); df.groupby(level='step').std().plot();\n",
      "# df.groupby(level='center').mean().plot(); df.groupby(level='center').std().plot();"
     ],
     "language": "python",
     "metadata": {},
     "outputs": [
      {
       "metadata": {},
       "output_type": "display_data",
       "png": "[encoded data removed]",
       "text": [
        "<matplotlib.figure.Figure at 0x1180194d0>"
       ]
      },
      {
       "metadata": {},
       "output_type": "display_data",
       "png": "[encoded data removed]",
       "text": [
        "<matplotlib.figure.Figure at 0x11765a4d0>"
       ]
      },
      {
       "metadata": {},
       "output_type": "display_data",
       "png": "[encoded data removed]",
       "text": [
        "<matplotlib.figure.Figure at 0x11833a210>"
       ]
      },
      {
       "metadata": {},
       "output_type": "display_data",
       "png": "[encoded data removed]",
       "text": [
        "<matplotlib.figure.Figure at 0x117ecb2d0>"
       ]
      }
     ],
     "prompt_number": 47
    },
    {
     "cell_type": "code",
     "collapsed": false,
     "input": [],
     "language": "python",
     "metadata": {},
     "outputs": [],
     "prompt_number": 172
    },
    {
     "cell_type": "code",
     "collapsed": false,
     "input": [
      "from sklearn import decomposition\n",
      "# print all_files.head\n",
      "y = all_files.HD\n",
      "x = all_files[['sigma','radius','ctrlPt', 'gradient','step', 'center']]\n"
     ],
     "language": "python",
     "metadata": {},
     "outputs": [
      {
       "html": [
        "<div style=\"max-height:1000px;max-width:1500px;overflow:auto;\">\n",
        "<table border=\"1\" class=\"dataframe\">\n",
        "  <thead>\n",
        "    <tr style=\"text-align: right;\">\n",
        "      <th></th>\n",
        "      <th>sigma</th>\n",
        "      <th>radius</th>\n",
        "      <th>ctrlPt</th>\n",
        "      <th>gradient</th>\n",
        "      <th>step</th>\n",
        "      <th>center</th>\n",
        "    </tr>\n",
        "  </thead>\n",
        "  <tbody>\n",
        "    <tr>\n",
        "      <th>0    </th>\n",
        "      <td>  1</td>\n",
        "      <td> 2</td>\n",
        "      <td> 3</td>\n",
        "      <td>  0</td>\n",
        "      <td>  5</td>\n",
        "      <td>  0</td>\n",
        "    </tr>\n",
        "    <tr>\n",
        "      <th>1    </th>\n",
        "      <td>  1</td>\n",
        "      <td> 2</td>\n",
        "      <td> 3</td>\n",
        "      <td>  0</td>\n",
        "      <td>  5</td>\n",
        "      <td>  0</td>\n",
        "    </tr>\n",
        "    <tr>\n",
        "      <th>2    </th>\n",
        "      <td>  1</td>\n",
        "      <td> 2</td>\n",
        "      <td> 3</td>\n",
        "      <td>  0</td>\n",
        "      <td>  5</td>\n",
        "      <td>  0</td>\n",
        "    </tr>\n",
        "    <tr>\n",
        "      <th>3    </th>\n",
        "      <td>  1</td>\n",
        "      <td> 2</td>\n",
        "      <td> 3</td>\n",
        "      <td>  0</td>\n",
        "      <td>  5</td>\n",
        "      <td>  0</td>\n",
        "    </tr>\n",
        "    <tr>\n",
        "      <th>4    </th>\n",
        "      <td>  1</td>\n",
        "      <td> 2</td>\n",
        "      <td> 3</td>\n",
        "      <td>  0</td>\n",
        "      <td>  5</td>\n",
        "      <td>  0</td>\n",
        "    </tr>\n",
        "    <tr>\n",
        "      <th>5    </th>\n",
        "      <td>  1</td>\n",
        "      <td> 2</td>\n",
        "      <td> 3</td>\n",
        "      <td>  0</td>\n",
        "      <td>  5</td>\n",
        "      <td>  0</td>\n",
        "    </tr>\n",
        "    <tr>\n",
        "      <th>6    </th>\n",
        "      <td>  1</td>\n",
        "      <td> 2</td>\n",
        "      <td> 3</td>\n",
        "      <td>  0</td>\n",
        "      <td>  5</td>\n",
        "      <td>  0</td>\n",
        "    </tr>\n",
        "    <tr>\n",
        "      <th>7    </th>\n",
        "      <td>  1</td>\n",
        "      <td> 2</td>\n",
        "      <td> 3</td>\n",
        "      <td>  0</td>\n",
        "      <td>  5</td>\n",
        "      <td>  0</td>\n",
        "    </tr>\n",
        "    <tr>\n",
        "      <th>8    </th>\n",
        "      <td>  1</td>\n",
        "      <td> 2</td>\n",
        "      <td> 3</td>\n",
        "      <td>  0</td>\n",
        "      <td>  5</td>\n",
        "      <td>  0</td>\n",
        "    </tr>\n",
        "    <tr>\n",
        "      <th>9    </th>\n",
        "      <td>  1</td>\n",
        "      <td> 2</td>\n",
        "      <td> 3</td>\n",
        "      <td>  0</td>\n",
        "      <td>  5</td>\n",
        "      <td>  0</td>\n",
        "    </tr>\n",
        "    <tr>\n",
        "      <th>10   </th>\n",
        "      <td>  1</td>\n",
        "      <td> 2</td>\n",
        "      <td> 3</td>\n",
        "      <td>  0</td>\n",
        "      <td>  5</td>\n",
        "      <td>  0</td>\n",
        "    </tr>\n",
        "    <tr>\n",
        "      <th>11   </th>\n",
        "      <td>  1</td>\n",
        "      <td> 2</td>\n",
        "      <td> 3</td>\n",
        "      <td>  0</td>\n",
        "      <td>  5</td>\n",
        "      <td>  0</td>\n",
        "    </tr>\n",
        "    <tr>\n",
        "      <th>12   </th>\n",
        "      <td>  1</td>\n",
        "      <td> 2</td>\n",
        "      <td> 3</td>\n",
        "      <td>  0</td>\n",
        "      <td>  5</td>\n",
        "      <td>  0</td>\n",
        "    </tr>\n",
        "    <tr>\n",
        "      <th>13   </th>\n",
        "      <td>  1</td>\n",
        "      <td> 2</td>\n",
        "      <td> 4</td>\n",
        "      <td>  0</td>\n",
        "      <td>  5</td>\n",
        "      <td>  0</td>\n",
        "    </tr>\n",
        "    <tr>\n",
        "      <th>14   </th>\n",
        "      <td>  1</td>\n",
        "      <td> 2</td>\n",
        "      <td> 4</td>\n",
        "      <td>  0</td>\n",
        "      <td>  5</td>\n",
        "      <td>  0</td>\n",
        "    </tr>\n",
        "    <tr>\n",
        "      <th>15   </th>\n",
        "      <td>  1</td>\n",
        "      <td> 2</td>\n",
        "      <td> 4</td>\n",
        "      <td>  0</td>\n",
        "      <td>  5</td>\n",
        "      <td>  0</td>\n",
        "    </tr>\n",
        "    <tr>\n",
        "      <th>16   </th>\n",
        "      <td>  1</td>\n",
        "      <td> 2</td>\n",
        "      <td> 4</td>\n",
        "      <td>  0</td>\n",
        "      <td>  5</td>\n",
        "      <td>  0</td>\n",
        "    </tr>\n",
        "    <tr>\n",
        "      <th>17   </th>\n",
        "      <td>  1</td>\n",
        "      <td> 2</td>\n",
        "      <td> 4</td>\n",
        "      <td>  0</td>\n",
        "      <td>  5</td>\n",
        "      <td>  0</td>\n",
        "    </tr>\n",
        "    <tr>\n",
        "      <th>18   </th>\n",
        "      <td>  1</td>\n",
        "      <td> 2</td>\n",
        "      <td> 4</td>\n",
        "      <td>  0</td>\n",
        "      <td>  5</td>\n",
        "      <td>  0</td>\n",
        "    </tr>\n",
        "    <tr>\n",
        "      <th>19   </th>\n",
        "      <td>  1</td>\n",
        "      <td> 2</td>\n",
        "      <td> 4</td>\n",
        "      <td>  0</td>\n",
        "      <td>  5</td>\n",
        "      <td>  0</td>\n",
        "    </tr>\n",
        "    <tr>\n",
        "      <th>20   </th>\n",
        "      <td>  1</td>\n",
        "      <td> 2</td>\n",
        "      <td> 4</td>\n",
        "      <td>  0</td>\n",
        "      <td>  5</td>\n",
        "      <td>  0</td>\n",
        "    </tr>\n",
        "    <tr>\n",
        "      <th>21   </th>\n",
        "      <td>  1</td>\n",
        "      <td> 2</td>\n",
        "      <td> 4</td>\n",
        "      <td>  0</td>\n",
        "      <td>  5</td>\n",
        "      <td>  0</td>\n",
        "    </tr>\n",
        "    <tr>\n",
        "      <th>22   </th>\n",
        "      <td>  1</td>\n",
        "      <td> 2</td>\n",
        "      <td> 4</td>\n",
        "      <td>  0</td>\n",
        "      <td>  5</td>\n",
        "      <td>  0</td>\n",
        "    </tr>\n",
        "    <tr>\n",
        "      <th>23   </th>\n",
        "      <td>  1</td>\n",
        "      <td> 2</td>\n",
        "      <td> 4</td>\n",
        "      <td>  0</td>\n",
        "      <td>  5</td>\n",
        "      <td>  0</td>\n",
        "    </tr>\n",
        "    <tr>\n",
        "      <th>24   </th>\n",
        "      <td>  1</td>\n",
        "      <td> 2</td>\n",
        "      <td> 4</td>\n",
        "      <td>  0</td>\n",
        "      <td>  5</td>\n",
        "      <td>  0</td>\n",
        "    </tr>\n",
        "    <tr>\n",
        "      <th>25   </th>\n",
        "      <td>  1</td>\n",
        "      <td> 2</td>\n",
        "      <td> 4</td>\n",
        "      <td>  0</td>\n",
        "      <td>  5</td>\n",
        "      <td>  0</td>\n",
        "    </tr>\n",
        "    <tr>\n",
        "      <th>26   </th>\n",
        "      <td>  1</td>\n",
        "      <td> 2</td>\n",
        "      <td> 5</td>\n",
        "      <td>  0</td>\n",
        "      <td>  5</td>\n",
        "      <td>  0</td>\n",
        "    </tr>\n",
        "    <tr>\n",
        "      <th>27   </th>\n",
        "      <td>  1</td>\n",
        "      <td> 2</td>\n",
        "      <td> 5</td>\n",
        "      <td>  0</td>\n",
        "      <td>  5</td>\n",
        "      <td>  0</td>\n",
        "    </tr>\n",
        "    <tr>\n",
        "      <th>28   </th>\n",
        "      <td>  1</td>\n",
        "      <td> 2</td>\n",
        "      <td> 5</td>\n",
        "      <td>  0</td>\n",
        "      <td>  5</td>\n",
        "      <td>  0</td>\n",
        "    </tr>\n",
        "    <tr>\n",
        "      <th>29   </th>\n",
        "      <td>  1</td>\n",
        "      <td> 2</td>\n",
        "      <td> 5</td>\n",
        "      <td>  0</td>\n",
        "      <td>  5</td>\n",
        "      <td>  0</td>\n",
        "    </tr>\n",
        "    <tr>\n",
        "      <th>...</th>\n",
        "      <td>...</td>\n",
        "      <td>...</td>\n",
        "      <td>...</td>\n",
        "      <td>...</td>\n",
        "      <td>...</td>\n",
        "      <td>...</td>\n",
        "    </tr>\n",
        "    <tr>\n",
        "      <th>13026</th>\n",
        "      <td> 30</td>\n",
        "      <td> 5</td>\n",
        "      <td> 9</td>\n",
        "      <td> 11</td>\n",
        "      <td> 16</td>\n",
        "      <td> 19</td>\n",
        "    </tr>\n",
        "    <tr>\n",
        "      <th>13027</th>\n",
        "      <td> 30</td>\n",
        "      <td> 5</td>\n",
        "      <td> 9</td>\n",
        "      <td> 11</td>\n",
        "      <td> 16</td>\n",
        "      <td> 19</td>\n",
        "    </tr>\n",
        "    <tr>\n",
        "      <th>13028</th>\n",
        "      <td> 30</td>\n",
        "      <td> 5</td>\n",
        "      <td> 9</td>\n",
        "      <td> 11</td>\n",
        "      <td> 16</td>\n",
        "      <td> 19</td>\n",
        "    </tr>\n",
        "    <tr>\n",
        "      <th>13029</th>\n",
        "      <td> 30</td>\n",
        "      <td> 5</td>\n",
        "      <td> 9</td>\n",
        "      <td> 11</td>\n",
        "      <td> 16</td>\n",
        "      <td> 19</td>\n",
        "    </tr>\n",
        "    <tr>\n",
        "      <th>13030</th>\n",
        "      <td> 30</td>\n",
        "      <td> 5</td>\n",
        "      <td> 9</td>\n",
        "      <td> 11</td>\n",
        "      <td> 16</td>\n",
        "      <td> 19</td>\n",
        "    </tr>\n",
        "    <tr>\n",
        "      <th>13031</th>\n",
        "      <td> 30</td>\n",
        "      <td> 5</td>\n",
        "      <td> 9</td>\n",
        "      <td> 11</td>\n",
        "      <td> 16</td>\n",
        "      <td> 19</td>\n",
        "    </tr>\n",
        "    <tr>\n",
        "      <th>13032</th>\n",
        "      <td>  8</td>\n",
        "      <td> 5</td>\n",
        "      <td> 8</td>\n",
        "      <td>  3</td>\n",
        "      <td> 21</td>\n",
        "      <td>  2</td>\n",
        "    </tr>\n",
        "    <tr>\n",
        "      <th>13033</th>\n",
        "      <td>  8</td>\n",
        "      <td> 5</td>\n",
        "      <td> 8</td>\n",
        "      <td>  3</td>\n",
        "      <td> 21</td>\n",
        "      <td>  2</td>\n",
        "    </tr>\n",
        "    <tr>\n",
        "      <th>13034</th>\n",
        "      <td>  8</td>\n",
        "      <td> 5</td>\n",
        "      <td> 8</td>\n",
        "      <td>  3</td>\n",
        "      <td> 21</td>\n",
        "      <td>  2</td>\n",
        "    </tr>\n",
        "    <tr>\n",
        "      <th>13035</th>\n",
        "      <td>  8</td>\n",
        "      <td> 5</td>\n",
        "      <td> 8</td>\n",
        "      <td>  3</td>\n",
        "      <td> 21</td>\n",
        "      <td>  2</td>\n",
        "    </tr>\n",
        "    <tr>\n",
        "      <th>13036</th>\n",
        "      <td>  8</td>\n",
        "      <td> 5</td>\n",
        "      <td> 8</td>\n",
        "      <td>  3</td>\n",
        "      <td> 21</td>\n",
        "      <td>  2</td>\n",
        "    </tr>\n",
        "    <tr>\n",
        "      <th>13037</th>\n",
        "      <td>  8</td>\n",
        "      <td> 5</td>\n",
        "      <td> 8</td>\n",
        "      <td>  3</td>\n",
        "      <td> 21</td>\n",
        "      <td>  2</td>\n",
        "    </tr>\n",
        "    <tr>\n",
        "      <th>13038</th>\n",
        "      <td>  8</td>\n",
        "      <td> 5</td>\n",
        "      <td> 8</td>\n",
        "      <td>  3</td>\n",
        "      <td> 21</td>\n",
        "      <td>  2</td>\n",
        "    </tr>\n",
        "    <tr>\n",
        "      <th>13039</th>\n",
        "      <td>  8</td>\n",
        "      <td> 5</td>\n",
        "      <td> 8</td>\n",
        "      <td>  3</td>\n",
        "      <td> 21</td>\n",
        "      <td>  2</td>\n",
        "    </tr>\n",
        "    <tr>\n",
        "      <th>13040</th>\n",
        "      <td>  8</td>\n",
        "      <td> 5</td>\n",
        "      <td> 8</td>\n",
        "      <td>  3</td>\n",
        "      <td> 21</td>\n",
        "      <td>  2</td>\n",
        "    </tr>\n",
        "    <tr>\n",
        "      <th>13041</th>\n",
        "      <td>  8</td>\n",
        "      <td> 5</td>\n",
        "      <td> 8</td>\n",
        "      <td>  3</td>\n",
        "      <td> 21</td>\n",
        "      <td>  2</td>\n",
        "    </tr>\n",
        "    <tr>\n",
        "      <th>13042</th>\n",
        "      <td>  8</td>\n",
        "      <td> 5</td>\n",
        "      <td> 8</td>\n",
        "      <td>  3</td>\n",
        "      <td> 21</td>\n",
        "      <td>  2</td>\n",
        "    </tr>\n",
        "    <tr>\n",
        "      <th>13043</th>\n",
        "      <td>  8</td>\n",
        "      <td> 5</td>\n",
        "      <td> 8</td>\n",
        "      <td>  3</td>\n",
        "      <td> 21</td>\n",
        "      <td>  2</td>\n",
        "    </tr>\n",
        "    <tr>\n",
        "      <th>13044</th>\n",
        "      <td> 26</td>\n",
        "      <td> 2</td>\n",
        "      <td> 7</td>\n",
        "      <td> 19</td>\n",
        "      <td> 25</td>\n",
        "      <td>  2</td>\n",
        "    </tr>\n",
        "    <tr>\n",
        "      <th>13045</th>\n",
        "      <td> 26</td>\n",
        "      <td> 2</td>\n",
        "      <td> 7</td>\n",
        "      <td> 19</td>\n",
        "      <td> 25</td>\n",
        "      <td>  2</td>\n",
        "    </tr>\n",
        "    <tr>\n",
        "      <th>13046</th>\n",
        "      <td> 26</td>\n",
        "      <td> 2</td>\n",
        "      <td> 7</td>\n",
        "      <td> 19</td>\n",
        "      <td> 25</td>\n",
        "      <td>  2</td>\n",
        "    </tr>\n",
        "    <tr>\n",
        "      <th>13047</th>\n",
        "      <td> 26</td>\n",
        "      <td> 2</td>\n",
        "      <td> 7</td>\n",
        "      <td> 19</td>\n",
        "      <td> 25</td>\n",
        "      <td>  2</td>\n",
        "    </tr>\n",
        "    <tr>\n",
        "      <th>13048</th>\n",
        "      <td> 26</td>\n",
        "      <td> 2</td>\n",
        "      <td> 7</td>\n",
        "      <td> 19</td>\n",
        "      <td> 25</td>\n",
        "      <td>  2</td>\n",
        "    </tr>\n",
        "    <tr>\n",
        "      <th>13049</th>\n",
        "      <td> 26</td>\n",
        "      <td> 2</td>\n",
        "      <td> 7</td>\n",
        "      <td> 19</td>\n",
        "      <td> 25</td>\n",
        "      <td>  2</td>\n",
        "    </tr>\n",
        "    <tr>\n",
        "      <th>13050</th>\n",
        "      <td> 26</td>\n",
        "      <td> 2</td>\n",
        "      <td> 7</td>\n",
        "      <td> 19</td>\n",
        "      <td> 25</td>\n",
        "      <td>  2</td>\n",
        "    </tr>\n",
        "    <tr>\n",
        "      <th>13051</th>\n",
        "      <td> 26</td>\n",
        "      <td> 2</td>\n",
        "      <td> 7</td>\n",
        "      <td> 19</td>\n",
        "      <td> 25</td>\n",
        "      <td>  2</td>\n",
        "    </tr>\n",
        "    <tr>\n",
        "      <th>13052</th>\n",
        "      <td> 26</td>\n",
        "      <td> 2</td>\n",
        "      <td> 7</td>\n",
        "      <td> 19</td>\n",
        "      <td> 25</td>\n",
        "      <td>  2</td>\n",
        "    </tr>\n",
        "    <tr>\n",
        "      <th>13053</th>\n",
        "      <td> 26</td>\n",
        "      <td> 2</td>\n",
        "      <td> 7</td>\n",
        "      <td> 19</td>\n",
        "      <td> 25</td>\n",
        "      <td>  2</td>\n",
        "    </tr>\n",
        "    <tr>\n",
        "      <th>13054</th>\n",
        "      <td> 26</td>\n",
        "      <td> 2</td>\n",
        "      <td> 7</td>\n",
        "      <td> 19</td>\n",
        "      <td> 25</td>\n",
        "      <td>  2</td>\n",
        "    </tr>\n",
        "    <tr>\n",
        "      <th>13055</th>\n",
        "      <td> 26</td>\n",
        "      <td> 2</td>\n",
        "      <td> 7</td>\n",
        "      <td> 19</td>\n",
        "      <td> 25</td>\n",
        "      <td>  2</td>\n",
        "    </tr>\n",
        "  </tbody>\n",
        "</table>\n",
        "<p>751621 rows \u00d7 6 columns</p>\n",
        "</div>"
       ],
       "metadata": {},
       "output_type": "pyout",
       "prompt_number": 182,
       "text": [
        "       sigma  radius  ctrlPt  gradient  step  center\n",
        "0          1       2       3         0     5       0\n",
        "1          1       2       3         0     5       0\n",
        "2          1       2       3         0     5       0\n",
        "3          1       2       3         0     5       0\n",
        "4          1       2       3         0     5       0\n",
        "5          1       2       3         0     5       0\n",
        "6          1       2       3         0     5       0\n",
        "7          1       2       3         0     5       0\n",
        "8          1       2       3         0     5       0\n",
        "9          1       2       3         0     5       0\n",
        "10         1       2       3         0     5       0\n",
        "11         1       2       3         0     5       0\n",
        "12         1       2       3         0     5       0\n",
        "13         1       2       4         0     5       0\n",
        "14         1       2       4         0     5       0\n",
        "15         1       2       4         0     5       0\n",
        "16         1       2       4         0     5       0\n",
        "17         1       2       4         0     5       0\n",
        "18         1       2       4         0     5       0\n",
        "19         1       2       4         0     5       0\n",
        "20         1       2       4         0     5       0\n",
        "21         1       2       4         0     5       0\n",
        "22         1       2       4         0     5       0\n",
        "23         1       2       4         0     5       0\n",
        "24         1       2       4         0     5       0\n",
        "25         1       2       4         0     5       0\n",
        "26         1       2       5         0     5       0\n",
        "27         1       2       5         0     5       0\n",
        "28         1       2       5         0     5       0\n",
        "29         1       2       5         0     5       0\n",
        "...      ...     ...     ...       ...   ...     ...\n",
        "13026     30       5       9        11    16      19\n",
        "13027     30       5       9        11    16      19\n",
        "13028     30       5       9        11    16      19\n",
        "13029     30       5       9        11    16      19\n",
        "13030     30       5       9        11    16      19\n",
        "13031     30       5       9        11    16      19\n",
        "13032      8       5       8         3    21       2\n",
        "13033      8       5       8         3    21       2\n",
        "13034      8       5       8         3    21       2\n",
        "13035      8       5       8         3    21       2\n",
        "13036      8       5       8         3    21       2\n",
        "13037      8       5       8         3    21       2\n",
        "13038      8       5       8         3    21       2\n",
        "13039      8       5       8         3    21       2\n",
        "13040      8       5       8         3    21       2\n",
        "13041      8       5       8         3    21       2\n",
        "13042      8       5       8         3    21       2\n",
        "13043      8       5       8         3    21       2\n",
        "13044     26       2       7        19    25       2\n",
        "13045     26       2       7        19    25       2\n",
        "13046     26       2       7        19    25       2\n",
        "13047     26       2       7        19    25       2\n",
        "13048     26       2       7        19    25       2\n",
        "13049     26       2       7        19    25       2\n",
        "13050     26       2       7        19    25       2\n",
        "13051     26       2       7        19    25       2\n",
        "13052     26       2       7        19    25       2\n",
        "13053     26       2       7        19    25       2\n",
        "13054     26       2       7        19    25       2\n",
        "13055     26       2       7        19    25       2\n",
        "\n",
        "[751621 rows x 6 columns]"
       ]
      }
     ],
     "prompt_number": 182
    },
    {
     "cell_type": "code",
     "collapsed": false,
     "input": [
      "from sklearn import decomposition\n",
      "(x1,x2...,xn) tel que pour tout j (cases) on a [(x1-Xj1)**2+...+(x6-Xj6)**2)] = min(j)(HD)"
     ],
     "language": "python",
     "metadata": {},
     "outputs": [
      {
       "ename": "ValueError",
       "evalue": "setting an array element with a sequence.",
       "output_type": "pyerr",
       "traceback": [
        "\u001b[0;31m---------------------------------------------------------------------------\u001b[0m\n\u001b[0;31mValueError\u001b[0m                                Traceback (most recent call last)",
        "\u001b[0;32m<ipython-input-143-8d1e92dcea5e>\u001b[0m in \u001b[0;36m<module>\u001b[0;34m()\u001b[0m\n\u001b[1;32m      1\u001b[0m \u001b[0;32mfrom\u001b[0m \u001b[0msklearn\u001b[0m \u001b[0;32mimport\u001b[0m \u001b[0mdecomposition\u001b[0m\u001b[0;34m\u001b[0m\u001b[0m\n\u001b[1;32m      2\u001b[0m \u001b[0mpca\u001b[0m \u001b[0;34m=\u001b[0m \u001b[0mdecomposition\u001b[0m\u001b[0;34m.\u001b[0m\u001b[0mPCA\u001b[0m\u001b[0;34m(\u001b[0m\u001b[0mn_components\u001b[0m\u001b[0;34m=\u001b[0m\u001b[0;36m2\u001b[0m\u001b[0;34m)\u001b[0m\u001b[0;34m\u001b[0m\u001b[0m\n\u001b[0;32m----> 3\u001b[0;31m \u001b[0mpca\u001b[0m\u001b[0;34m.\u001b[0m\u001b[0mfit\u001b[0m\u001b[0;34m(\u001b[0m\u001b[0mgrouped\u001b[0m\u001b[0;34m)\u001b[0m\u001b[0;34m\u001b[0m\u001b[0m\n\u001b[0m",
        "\u001b[0;32m/Users/guillaume/.pyenv/versions/2.7.8/lib/python2.7/site-packages/sklearn/decomposition/pca.pyc\u001b[0m in \u001b[0;36mfit\u001b[0;34m(self, X, y)\u001b[0m\n\u001b[1;32m    223\u001b[0m             \u001b[0mReturns\u001b[0m \u001b[0mthe\u001b[0m \u001b[0minstance\u001b[0m \u001b[0mitself\u001b[0m\u001b[0;34m.\u001b[0m\u001b[0;34m\u001b[0m\u001b[0m\n\u001b[1;32m    224\u001b[0m         \"\"\"\n\u001b[0;32m--> 225\u001b[0;31m         \u001b[0mself\u001b[0m\u001b[0;34m.\u001b[0m\u001b[0m_fit\u001b[0m\u001b[0;34m(\u001b[0m\u001b[0mX\u001b[0m\u001b[0;34m)\u001b[0m\u001b[0;34m\u001b[0m\u001b[0m\n\u001b[0m\u001b[1;32m    226\u001b[0m         \u001b[0;32mreturn\u001b[0m \u001b[0mself\u001b[0m\u001b[0;34m\u001b[0m\u001b[0m\n\u001b[1;32m    227\u001b[0m \u001b[0;34m\u001b[0m\u001b[0m\n",
        "\u001b[0;32m/Users/guillaume/.pyenv/versions/2.7.8/lib/python2.7/site-packages/sklearn/decomposition/pca.pyc\u001b[0m in \u001b[0;36m_fit\u001b[0;34m(self, X)\u001b[0m\n\u001b[1;32m    269\u001b[0m         \u001b[0mX\u001b[0m \u001b[0;34m=\u001b[0m \u001b[0marray2d\u001b[0m\u001b[0;34m(\u001b[0m\u001b[0mX\u001b[0m\u001b[0;34m)\u001b[0m\u001b[0;34m\u001b[0m\u001b[0m\n\u001b[1;32m    270\u001b[0m         \u001b[0mn_samples\u001b[0m\u001b[0;34m,\u001b[0m \u001b[0mn_features\u001b[0m \u001b[0;34m=\u001b[0m \u001b[0mX\u001b[0m\u001b[0;34m.\u001b[0m\u001b[0mshape\u001b[0m\u001b[0;34m\u001b[0m\u001b[0m\n\u001b[0;32m--> 271\u001b[0;31m         \u001b[0mX\u001b[0m \u001b[0;34m=\u001b[0m \u001b[0mas_float_array\u001b[0m\u001b[0;34m(\u001b[0m\u001b[0mX\u001b[0m\u001b[0;34m,\u001b[0m \u001b[0mcopy\u001b[0m\u001b[0;34m=\u001b[0m\u001b[0mself\u001b[0m\u001b[0;34m.\u001b[0m\u001b[0mcopy\u001b[0m\u001b[0;34m)\u001b[0m\u001b[0;34m\u001b[0m\u001b[0m\n\u001b[0m\u001b[1;32m    272\u001b[0m         \u001b[0;31m# Center data\u001b[0m\u001b[0;34m\u001b[0m\u001b[0;34m\u001b[0m\u001b[0m\n\u001b[1;32m    273\u001b[0m         \u001b[0mself\u001b[0m\u001b[0;34m.\u001b[0m\u001b[0mmean_\u001b[0m \u001b[0;34m=\u001b[0m \u001b[0mnp\u001b[0m\u001b[0;34m.\u001b[0m\u001b[0mmean\u001b[0m\u001b[0;34m(\u001b[0m\u001b[0mX\u001b[0m\u001b[0;34m,\u001b[0m \u001b[0maxis\u001b[0m\u001b[0;34m=\u001b[0m\u001b[0;36m0\u001b[0m\u001b[0;34m)\u001b[0m\u001b[0;34m\u001b[0m\u001b[0m\n",
        "\u001b[0;32m/Users/guillaume/.pyenv/versions/2.7.8/lib/python2.7/site-packages/sklearn/utils/validation.pyc\u001b[0m in \u001b[0;36mas_float_array\u001b[0;34m(X, copy, force_all_finite)\u001b[0m\n\u001b[1;32m    110\u001b[0m         \u001b[0;32mreturn\u001b[0m \u001b[0mX\u001b[0m\u001b[0;34m.\u001b[0m\u001b[0mcopy\u001b[0m\u001b[0;34m(\u001b[0m\u001b[0;34m'F'\u001b[0m \u001b[0;32mif\u001b[0m \u001b[0mX\u001b[0m\u001b[0;34m.\u001b[0m\u001b[0mflags\u001b[0m\u001b[0;34m[\u001b[0m\u001b[0;34m'F_CONTIGUOUS'\u001b[0m\u001b[0;34m]\u001b[0m \u001b[0;32melse\u001b[0m \u001b[0;34m'C'\u001b[0m\u001b[0;34m)\u001b[0m \u001b[0;32mif\u001b[0m \u001b[0mcopy\u001b[0m \u001b[0;32melse\u001b[0m \u001b[0mX\u001b[0m\u001b[0;34m\u001b[0m\u001b[0m\n\u001b[1;32m    111\u001b[0m     \u001b[0;32melse\u001b[0m\u001b[0;34m:\u001b[0m\u001b[0;34m\u001b[0m\u001b[0m\n\u001b[0;32m--> 112\u001b[0;31m         \u001b[0;32mreturn\u001b[0m \u001b[0mX\u001b[0m\u001b[0;34m.\u001b[0m\u001b[0mastype\u001b[0m\u001b[0;34m(\u001b[0m\u001b[0mnp\u001b[0m\u001b[0;34m.\u001b[0m\u001b[0mfloat32\u001b[0m \u001b[0;32mif\u001b[0m \u001b[0mX\u001b[0m\u001b[0;34m.\u001b[0m\u001b[0mdtype\u001b[0m \u001b[0;34m==\u001b[0m \u001b[0mnp\u001b[0m\u001b[0;34m.\u001b[0m\u001b[0mint32\u001b[0m \u001b[0;32melse\u001b[0m \u001b[0mnp\u001b[0m\u001b[0;34m.\u001b[0m\u001b[0mfloat64\u001b[0m\u001b[0;34m)\u001b[0m\u001b[0;34m\u001b[0m\u001b[0m\n\u001b[0m\u001b[1;32m    113\u001b[0m \u001b[0;34m\u001b[0m\u001b[0m\n\u001b[1;32m    114\u001b[0m \u001b[0;34m\u001b[0m\u001b[0m\n",
        "\u001b[0;31mValueError\u001b[0m: setting an array element with a sequence."
       ]
      }
     ],
     "prompt_number": 143
    },
    {
     "cell_type": "code",
     "collapsed": false,
     "input": [
      "X = pca.transform(grouped)"
     ],
     "language": "python",
     "metadata": {},
     "outputs": [
      {
       "ename": "NameError",
       "evalue": "name 'pca' is not defined",
       "output_type": "pyerr",
       "traceback": [
        "\u001b[0;31m---------------------------------------------------------------------------\u001b[0m\n\u001b[0;31mNameError\u001b[0m                                 Traceback (most recent call last)",
        "\u001b[0;32m<ipython-input-1-36dc5fb22afe>\u001b[0m in \u001b[0;36m<module>\u001b[0;34m()\u001b[0m\n\u001b[0;32m----> 1\u001b[0;31m \u001b[0mX\u001b[0m \u001b[0;34m=\u001b[0m \u001b[0mpca\u001b[0m\u001b[0;34m.\u001b[0m\u001b[0mtransform\u001b[0m\u001b[0;34m(\u001b[0m\u001b[0mgrouped\u001b[0m\u001b[0;34m)\u001b[0m\u001b[0;34m\u001b[0m\u001b[0m\n\u001b[0m",
        "\u001b[0;31mNameError\u001b[0m: name 'pca' is not defined"
       ]
      }
     ],
     "prompt_number": 1
    }
   ],
   "metadata": {}
  }
 ]
}